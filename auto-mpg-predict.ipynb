{
 "cells": [
  {
   "cell_type": "code",
   "execution_count": 1,
   "id": "9314e9a8",
   "metadata": {
    "execution": {
     "iopub.execute_input": "2022-01-29T05:38:46.530477Z",
     "iopub.status.busy": "2022-01-29T05:38:46.529101Z",
     "iopub.status.idle": "2022-01-29T05:38:48.417592Z",
     "shell.execute_reply": "2022-01-29T05:38:48.416609Z",
     "shell.execute_reply.started": "2022-01-29T05:34:09.519600Z"
    },
    "papermill": {
     "duration": 1.934194,
     "end_time": "2022-01-29T05:38:48.417860",
     "exception": false,
     "start_time": "2022-01-29T05:38:46.483666",
     "status": "completed"
    },
    "tags": []
   },
   "outputs": [],
   "source": [
    "import pandas as pd\n",
    "import seaborn as sns\n",
    "\n",
    "from sklearn.linear_model import LinearRegression\n",
    "from sklearn.model_selection import train_test_split"
   ]
  },
  {
   "cell_type": "code",
   "execution_count": 2,
   "id": "3987bc82",
   "metadata": {
    "execution": {
     "iopub.execute_input": "2022-01-29T05:38:48.468164Z",
     "iopub.status.busy": "2022-01-29T05:38:48.467231Z",
     "iopub.status.idle": "2022-01-29T05:38:48.492278Z",
     "shell.execute_reply": "2022-01-29T05:38:48.492815Z",
     "shell.execute_reply.started": "2022-01-29T05:34:10.103886Z"
    },
    "papermill": {
     "duration": 0.054763,
     "end_time": "2022-01-29T05:38:48.493010",
     "exception": false,
     "start_time": "2022-01-29T05:38:48.438247",
     "status": "completed"
    },
    "scrolled": true,
    "tags": []
   },
   "outputs": [
    {
     "name": "stdout",
     "output_type": "stream",
     "text": [
      "reading the dataset\n"
     ]
    }
   ],
   "source": [
    "# read the dataset\n",
    "print('reading the dataset')\n",
    "cols = ['mpg', 'cylinders', 'displacement', 'horsepower', 'weight', \n",
    "        'acceleration', 'model year', 'origin', 'car name']\n",
    "df = pd.read_csv('../input/uci-ml-auto-mpg-dataset/auto-mpg.data', sep='\\s+', header=None, names=cols)"
   ]
  },
  {
   "cell_type": "code",
   "execution_count": 3,
   "id": "fcb9d405",
   "metadata": {
    "execution": {
     "iopub.execute_input": "2022-01-29T05:38:48.555418Z",
     "iopub.status.busy": "2022-01-29T05:38:48.554685Z",
     "iopub.status.idle": "2022-01-29T05:38:48.568282Z",
     "shell.execute_reply": "2022-01-29T05:38:48.567450Z",
     "shell.execute_reply.started": "2022-01-29T05:34:10.122840Z"
    },
    "papermill": {
     "duration": 0.055307,
     "end_time": "2022-01-29T05:38:48.568493",
     "exception": false,
     "start_time": "2022-01-29T05:38:48.513186",
     "status": "completed"
    },
    "tags": []
   },
   "outputs": [
    {
     "name": "stdout",
     "output_type": "stream",
     "text": [
      "preprocessing\n"
     ]
    }
   ],
   "source": [
    "# convert horsepower column to float and drop rows where horsepower = nan\n",
    "print('preprocessing')\n",
    "df['horsepower'] = pd.to_numeric(df['horsepower'], errors='coerce')\n",
    "df.dropna(axis=0, how='any', inplace=True)"
   ]
  },
  {
   "cell_type": "code",
   "execution_count": 4,
   "id": "4a2bb77a",
   "metadata": {
    "execution": {
     "iopub.execute_input": "2022-01-29T05:38:48.642213Z",
     "iopub.status.busy": "2022-01-29T05:38:48.641488Z",
     "iopub.status.idle": "2022-01-29T05:38:48.667571Z",
     "shell.execute_reply": "2022-01-29T05:38:48.666858Z",
     "shell.execute_reply.started": "2022-01-29T05:34:10.138842Z"
    },
    "papermill": {
     "duration": 0.078555,
     "end_time": "2022-01-29T05:38:48.667740",
     "exception": false,
     "start_time": "2022-01-29T05:38:48.589185",
     "status": "completed"
    },
    "tags": []
   },
   "outputs": [
    {
     "data": {
      "text/html": [
       "<div>\n",
       "<style scoped>\n",
       "    .dataframe tbody tr th:only-of-type {\n",
       "        vertical-align: middle;\n",
       "    }\n",
       "\n",
       "    .dataframe tbody tr th {\n",
       "        vertical-align: top;\n",
       "    }\n",
       "\n",
       "    .dataframe thead th {\n",
       "        text-align: right;\n",
       "    }\n",
       "</style>\n",
       "<table border=\"1\" class=\"dataframe\">\n",
       "  <thead>\n",
       "    <tr style=\"text-align: right;\">\n",
       "      <th></th>\n",
       "      <th>mpg</th>\n",
       "      <th>cylinders</th>\n",
       "      <th>displacement</th>\n",
       "      <th>horsepower</th>\n",
       "      <th>weight</th>\n",
       "      <th>acceleration</th>\n",
       "      <th>model year</th>\n",
       "      <th>origin</th>\n",
       "      <th>car name</th>\n",
       "      <th>mpg_bin</th>\n",
       "    </tr>\n",
       "  </thead>\n",
       "  <tbody>\n",
       "    <tr>\n",
       "      <th>0</th>\n",
       "      <td>18.0</td>\n",
       "      <td>8</td>\n",
       "      <td>307.0</td>\n",
       "      <td>130.0</td>\n",
       "      <td>3504.0</td>\n",
       "      <td>12.0</td>\n",
       "      <td>70</td>\n",
       "      <td>1</td>\n",
       "      <td>chevrolet chevelle malibu</td>\n",
       "      <td>(16.0, 20.0]</td>\n",
       "    </tr>\n",
       "    <tr>\n",
       "      <th>1</th>\n",
       "      <td>15.0</td>\n",
       "      <td>8</td>\n",
       "      <td>350.0</td>\n",
       "      <td>165.0</td>\n",
       "      <td>3693.0</td>\n",
       "      <td>11.5</td>\n",
       "      <td>70</td>\n",
       "      <td>1</td>\n",
       "      <td>buick skylark 320</td>\n",
       "      <td>(8.999, 16.0]</td>\n",
       "    </tr>\n",
       "    <tr>\n",
       "      <th>2</th>\n",
       "      <td>18.0</td>\n",
       "      <td>8</td>\n",
       "      <td>318.0</td>\n",
       "      <td>150.0</td>\n",
       "      <td>3436.0</td>\n",
       "      <td>11.0</td>\n",
       "      <td>70</td>\n",
       "      <td>1</td>\n",
       "      <td>plymouth satellite</td>\n",
       "      <td>(16.0, 20.0]</td>\n",
       "    </tr>\n",
       "    <tr>\n",
       "      <th>3</th>\n",
       "      <td>16.0</td>\n",
       "      <td>8</td>\n",
       "      <td>304.0</td>\n",
       "      <td>150.0</td>\n",
       "      <td>3433.0</td>\n",
       "      <td>12.0</td>\n",
       "      <td>70</td>\n",
       "      <td>1</td>\n",
       "      <td>amc rebel sst</td>\n",
       "      <td>(8.999, 16.0]</td>\n",
       "    </tr>\n",
       "    <tr>\n",
       "      <th>4</th>\n",
       "      <td>17.0</td>\n",
       "      <td>8</td>\n",
       "      <td>302.0</td>\n",
       "      <td>140.0</td>\n",
       "      <td>3449.0</td>\n",
       "      <td>10.5</td>\n",
       "      <td>70</td>\n",
       "      <td>1</td>\n",
       "      <td>ford torino</td>\n",
       "      <td>(16.0, 20.0]</td>\n",
       "    </tr>\n",
       "  </tbody>\n",
       "</table>\n",
       "</div>"
      ],
      "text/plain": [
       "    mpg  cylinders  displacement  horsepower  weight  acceleration  \\\n",
       "0  18.0          8         307.0       130.0  3504.0          12.0   \n",
       "1  15.0          8         350.0       165.0  3693.0          11.5   \n",
       "2  18.0          8         318.0       150.0  3436.0          11.0   \n",
       "3  16.0          8         304.0       150.0  3433.0          12.0   \n",
       "4  17.0          8         302.0       140.0  3449.0          10.5   \n",
       "\n",
       "   model year  origin                   car name        mpg_bin  \n",
       "0          70       1  chevrolet chevelle malibu   (16.0, 20.0]  \n",
       "1          70       1          buick skylark 320  (8.999, 16.0]  \n",
       "2          70       1         plymouth satellite   (16.0, 20.0]  \n",
       "3          70       1              amc rebel sst  (8.999, 16.0]  \n",
       "4          70       1                ford torino   (16.0, 20.0]  "
      ]
     },
     "execution_count": 4,
     "metadata": {},
     "output_type": "execute_result"
    }
   ],
   "source": [
    "df['mpg_bin'] = pd.qcut(df['mpg'], q=5)\n",
    "df.head()"
   ]
  },
  {
   "cell_type": "code",
   "execution_count": 5,
   "id": "f2fcef61",
   "metadata": {
    "execution": {
     "iopub.execute_input": "2022-01-29T05:38:48.727498Z",
     "iopub.status.busy": "2022-01-29T05:38:48.726763Z",
     "iopub.status.idle": "2022-01-29T05:38:49.253200Z",
     "shell.execute_reply": "2022-01-29T05:38:49.252246Z",
     "shell.execute_reply.started": "2022-01-29T05:34:10.173614Z"
    },
    "papermill": {
     "duration": 0.564696,
     "end_time": "2022-01-29T05:38:49.253440",
     "exception": false,
     "start_time": "2022-01-29T05:38:48.688744",
     "status": "completed"
    },
    "tags": []
   },
   "outputs": [
    {
     "data": {
      "text/plain": [
       "<AxesSubplot:xlabel='cylinders', ylabel='mpg_bin'>"
      ]
     },
     "execution_count": 5,
     "metadata": {},
     "output_type": "execute_result"
    },
    {
     "data": {
      "image/png": "[encoded data removed]",
      "text/plain": [
       "<Figure size 432x288 with 1 Axes>"
      ]
     },
     "metadata": {
      "needs_background": "light"
     },
     "output_type": "display_data"
    }
   ],
   "source": [
    "sns.barplot(y=df['mpg_bin'], x=df['cylinders'])"
   ]
  },
  {
   "cell_type": "markdown",
   "id": "83760ca0",
   "metadata": {
    "papermill": {
     "duration": 0.031642,
     "end_time": "2022-01-29T05:38:49.308020",
     "exception": false,
     "start_time": "2022-01-29T05:38:49.276378",
     "status": "completed"
    },
    "tags": []
   },
   "source": [
    "for col in df.columns:\n",
    "    print(f\"sns.barplot(x=df['mpg_bin'], y=df['{col}'])\")"
   ]
  },
  {
   "cell_type": "code",
   "execution_count": 6,
   "id": "9b490e9b",
   "metadata": {
    "execution": {
     "iopub.execute_input": "2022-01-29T05:38:49.401283Z",
     "iopub.status.busy": "2022-01-29T05:38:49.399782Z",
     "iopub.status.idle": "2022-01-29T05:38:49.816401Z",
     "shell.execute_reply": "2022-01-29T05:38:49.817000Z",
     "shell.execute_reply.started": "2022-01-29T05:34:10.615832Z"
    },
    "papermill": {
     "duration": 0.472976,
     "end_time": "2022-01-29T05:38:49.817240",
     "exception": false,
     "start_time": "2022-01-29T05:38:49.344264",
     "status": "completed"
    },
    "tags": []
   },
   "outputs": [
    {
     "data": {
      "text/plain": [
       "<AxesSubplot:xlabel='mpg_bin', ylabel='displacement'>"
      ]
     },
     "execution_count": 6,
     "metadata": {},
     "output_type": "execute_result"
    },
    {
     "data": {
      "image/png": "[encoded data removed]",
      "text/plain": [
       "<Figure size 432x288 with 1 Axes>"
      ]
     },
     "metadata": {
      "needs_background": "light"
     },
     "output_type": "display_data"
    }
   ],
   "source": [
    "sns.barplot(x=df['mpg_bin'], y=df['displacement'])\n"
   ]
  },
  {
   "cell_type": "code",
   "execution_count": 7,
   "id": "099c0813",
   "metadata": {
    "execution": {
     "iopub.execute_input": "2022-01-29T05:38:49.886791Z",
     "iopub.status.busy": "2022-01-29T05:38:49.884666Z",
     "iopub.status.idle": "2022-01-29T05:38:50.315548Z",
     "shell.execute_reply": "2022-01-29T05:38:50.316322Z",
     "shell.execute_reply.started": "2022-01-29T05:34:11.014424Z"
    },
    "papermill": {
     "duration": 0.466941,
     "end_time": "2022-01-29T05:38:50.316689",
     "exception": false,
     "start_time": "2022-01-29T05:38:49.849748",
     "status": "completed"
    },
    "tags": []
   },
   "outputs": [
    {
     "data": {
      "text/plain": [
       "<AxesSubplot:xlabel='mpg_bin', ylabel='horsepower'>"
      ]
     },
     "execution_count": 7,
     "metadata": {},
     "output_type": "execute_result"
    },
    {
     "data": {
      "image/png": "[encoded data removed]",
      "text/plain": [
       "<Figure size 432x288 with 1 Axes>"
      ]
     },
     "metadata": {
      "needs_background": "light"
     },
     "output_type": "display_data"
    }
   ],
   "source": [
    "sns.barplot(x=df['mpg_bin'], y=df['horsepower'])"
   ]
  },
  {
   "cell_type": "code",
   "execution_count": 8,
   "id": "e9535ecd",
   "metadata": {
    "execution": {
     "iopub.execute_input": "2022-01-29T05:38:50.385180Z",
     "iopub.status.busy": "2022-01-29T05:38:50.382937Z",
     "iopub.status.idle": "2022-01-29T05:38:50.877525Z",
     "shell.execute_reply": "2022-01-29T05:38:50.876824Z",
     "shell.execute_reply.started": "2022-01-29T05:34:11.406076Z"
    },
    "papermill": {
     "duration": 0.529352,
     "end_time": "2022-01-29T05:38:50.877747",
     "exception": false,
     "start_time": "2022-01-29T05:38:50.348395",
     "status": "completed"
    },
    "tags": []
   },
   "outputs": [
    {
     "data": {
      "text/plain": [
       "<AxesSubplot:xlabel='mpg_bin', ylabel='weight'>"
      ]
     },
     "execution_count": 8,
     "metadata": {},
     "output_type": "execute_result"
    },
    {
     "data": {
      "image/png": "[encoded data removed]",
      "text/plain": [
       "<Figure size 432x288 with 1 Axes>"
      ]
     },
     "metadata": {
      "needs_background": "light"
     },
     "output_type": "display_data"
    }
   ],
   "source": [
    "sns.barplot(x=df['mpg_bin'], y=df['weight'])"
   ]
  },
  {
   "cell_type": "code",
   "execution_count": 9,
   "id": "79a8e9b9",
   "metadata": {
    "execution": {
     "iopub.execute_input": "2022-01-29T05:38:50.951311Z",
     "iopub.status.busy": "2022-01-29T05:38:50.949463Z",
     "iopub.status.idle": "2022-01-29T05:38:51.354024Z",
     "shell.execute_reply": "2022-01-29T05:38:51.353253Z",
     "shell.execute_reply.started": "2022-01-29T05:34:11.799475Z"
    },
    "papermill": {
     "duration": 0.441567,
     "end_time": "2022-01-29T05:38:51.354231",
     "exception": false,
     "start_time": "2022-01-29T05:38:50.912664",
     "status": "completed"
    },
    "tags": []
   },
   "outputs": [
    {
     "data": {
      "text/plain": [
       "<AxesSubplot:xlabel='mpg_bin', ylabel='acceleration'>"
      ]
     },
     "execution_count": 9,
     "metadata": {},
     "output_type": "execute_result"
    },
    {
     "data": {
      "image/png": "[encoded data removed]",
      "text/plain": [
       "<Figure size 432x288 with 1 Axes>"
      ]
     },
     "metadata": {
      "needs_background": "light"
     },
     "output_type": "display_data"
    }
   ],
   "source": [
    "sns.barplot(x=df['mpg_bin'], y=df['acceleration'])"
   ]
  },
  {
   "cell_type": "code",
   "execution_count": 10,
   "id": "051cf615",
   "metadata": {
    "execution": {
     "iopub.execute_input": "2022-01-29T05:38:51.416536Z",
     "iopub.status.busy": "2022-01-29T05:38:51.415690Z",
     "iopub.status.idle": "2022-01-29T05:38:51.714882Z",
     "shell.execute_reply": "2022-01-29T05:38:51.715395Z",
     "shell.execute_reply.started": "2022-01-29T05:34:12.188878Z"
    },
    "papermill": {
     "duration": 0.332988,
     "end_time": "2022-01-29T05:38:51.715617",
     "exception": false,
     "start_time": "2022-01-29T05:38:51.382629",
     "status": "completed"
    },
    "tags": []
   },
   "outputs": [
    {
     "data": {
      "text/plain": [
       "<AxesSubplot:xlabel='origin', ylabel='mpg'>"
      ]
     },
     "execution_count": 10,
     "metadata": {},
     "output_type": "execute_result"
    },
    {
     "data": {
      "image/png": "[encoded data removed]",
      "text/plain": [
       "<Figure size 432x288 with 1 Axes>"
      ]
     },
     "metadata": {
      "needs_background": "light"
     },
     "output_type": "display_data"
    }
   ],
   "source": [
    "sns.barplot(x=df['origin'], y=df['mpg'])"
   ]
  },
  {
   "cell_type": "code",
   "execution_count": 11,
   "id": "d7bad336",
   "metadata": {
    "execution": {
     "iopub.execute_input": "2022-01-29T05:38:51.775367Z",
     "iopub.status.busy": "2022-01-29T05:38:51.774281Z",
     "iopub.status.idle": "2022-01-29T05:38:51.782160Z",
     "shell.execute_reply": "2022-01-29T05:38:51.782648Z",
     "shell.execute_reply.started": "2022-01-29T05:34:12.493288Z"
    },
    "papermill": {
     "duration": 0.040452,
     "end_time": "2022-01-29T05:38:51.782866",
     "exception": false,
     "start_time": "2022-01-29T05:38:51.742414",
     "status": "completed"
    },
    "tags": []
   },
   "outputs": [
    {
     "data": {
      "text/plain": [
       "(245, 9.0, 39.0)"
      ]
     },
     "execution_count": 11,
     "metadata": {},
     "output_type": "execute_result"
    }
   ],
   "source": [
    "usa = df[df['origin']==1]['mpg']\n",
    "usa.count(), usa.min(), usa.max()"
   ]
  },
  {
   "cell_type": "code",
   "execution_count": 12,
   "id": "489cc7e0",
   "metadata": {
    "execution": {
     "iopub.execute_input": "2022-01-29T05:38:51.847202Z",
     "iopub.status.busy": "2022-01-29T05:38:51.842207Z",
     "iopub.status.idle": "2022-01-29T05:38:51.851645Z",
     "shell.execute_reply": "2022-01-29T05:38:51.852217Z",
     "shell.execute_reply.started": "2022-01-29T05:34:12.504776Z"
    },
    "papermill": {
     "duration": 0.042644,
     "end_time": "2022-01-29T05:38:51.852413",
     "exception": false,
     "start_time": "2022-01-29T05:38:51.809769",
     "status": "completed"
    },
    "tags": []
   },
   "outputs": [
    {
     "data": {
      "text/plain": [
       "(68, 16.2, 44.3)"
      ]
     },
     "execution_count": 12,
     "metadata": {},
     "output_type": "execute_result"
    }
   ],
   "source": [
    "eu = df[df['origin']==2]['mpg']\n",
    "eu.count(), eu.min(), eu.max()"
   ]
  },
  {
   "cell_type": "code",
   "execution_count": 13,
   "id": "67a8af93",
   "metadata": {
    "execution": {
     "iopub.execute_input": "2022-01-29T05:38:51.921133Z",
     "iopub.status.busy": "2022-01-29T05:38:51.920256Z",
     "iopub.status.idle": "2022-01-29T05:38:51.924253Z",
     "shell.execute_reply": "2022-01-29T05:38:51.925023Z",
     "shell.execute_reply.started": "2022-01-29T05:34:12.526613Z"
    },
    "papermill": {
     "duration": 0.045143,
     "end_time": "2022-01-29T05:38:51.925211",
     "exception": false,
     "start_time": "2022-01-29T05:38:51.880068",
     "status": "completed"
    },
    "tags": []
   },
   "outputs": [
    {
     "data": {
      "text/plain": [
       "(79, 18.0, 46.6)"
      ]
     },
     "execution_count": 13,
     "metadata": {},
     "output_type": "execute_result"
    }
   ],
   "source": [
    "jp = df[df['origin']==3]['mpg']\n",
    "jp.count(), jp.min(), jp.max()"
   ]
  },
  {
   "cell_type": "code",
   "execution_count": 14,
   "id": "b262cbed",
   "metadata": {
    "execution": {
     "iopub.execute_input": "2022-01-29T05:38:51.993238Z",
     "iopub.status.busy": "2022-01-29T05:38:51.992119Z",
     "iopub.status.idle": "2022-01-29T05:38:51.996004Z",
     "shell.execute_reply": "2022-01-29T05:38:51.996522Z",
     "shell.execute_reply.started": "2022-01-29T05:34:12.538825Z"
    },
    "papermill": {
     "duration": 0.044261,
     "end_time": "2022-01-29T05:38:51.996699",
     "exception": false,
     "start_time": "2022-01-29T05:38:51.952438",
     "status": "completed"
    },
    "tags": []
   },
   "outputs": [
    {
     "name": "stdout",
     "output_type": "stream",
     "text": [
      "segregate features and target columns\n"
     ]
    }
   ],
   "source": [
    "# segregate features and target columns\n",
    "print('segregate features and target columns')\n",
    "X = df.drop(['mpg', 'car name', 'mpg_bin'], axis=1)\n",
    "y = df['mpg']"
   ]
  },
  {
   "cell_type": "code",
   "execution_count": 15,
   "id": "ce6b5b18",
   "metadata": {
    "execution": {
     "iopub.execute_input": "2022-01-29T05:38:52.062109Z",
     "iopub.status.busy": "2022-01-29T05:38:52.060569Z",
     "iopub.status.idle": "2022-01-29T05:38:52.076133Z",
     "shell.execute_reply": "2022-01-29T05:38:52.076660Z",
     "shell.execute_reply.started": "2022-01-29T05:34:12.555554Z"
    },
    "papermill": {
     "duration": 0.04945,
     "end_time": "2022-01-29T05:38:52.076859",
     "exception": false,
     "start_time": "2022-01-29T05:38:52.027409",
     "status": "completed"
    },
    "tags": []
   },
   "outputs": [
    {
     "name": "stdout",
     "output_type": "stream",
     "text": [
      "split data into training and test datasets\n"
     ]
    },
    {
     "data": {
      "text/plain": [
       "((313, 7), (79, 7), (313,), (79,))"
      ]
     },
     "execution_count": 15,
     "metadata": {},
     "output_type": "execute_result"
    }
   ],
   "source": [
    "# split data into training and test datasets\n",
    "print('split data into training and test datasets')\n",
    "X_train, X_test, y_train, y_test = train_test_split(X, y, test_size=0.2, random_state=45)\n",
    "X_train.shape, X_test.shape, y_train.shape, y_test.shape"
   ]
  },
  {
   "cell_type": "code",
   "execution_count": 16,
   "id": "5fbfb633",
   "metadata": {
    "execution": {
     "iopub.execute_input": "2022-01-29T05:38:52.139130Z",
     "iopub.status.busy": "2022-01-29T05:38:52.137469Z",
     "iopub.status.idle": "2022-01-29T05:38:52.168288Z",
     "shell.execute_reply": "2022-01-29T05:38:52.168966Z",
     "shell.execute_reply.started": "2022-01-29T05:34:12.575651Z"
    },
    "papermill": {
     "duration": 0.063667,
     "end_time": "2022-01-29T05:38:52.169150",
     "exception": false,
     "start_time": "2022-01-29T05:38:52.105483",
     "status": "completed"
    },
    "tags": []
   },
   "outputs": [
    {
     "name": "stdout",
     "output_type": "stream",
     "text": [
      "create and fit an ML model with the training data\n"
     ]
    }
   ],
   "source": [
    "# create and fit a linear regression model with the training data\n",
    "print('create and fit an ML model with the training data')\n",
    "lr_model = LinearRegression()\n",
    "lr_model = lr_model.fit(X_train, y_train)"
   ]
  },
  {
   "cell_type": "code",
   "execution_count": 17,
   "id": "1c00c04d",
   "metadata": {
    "execution": {
     "iopub.execute_input": "2022-01-29T05:38:52.233978Z",
     "iopub.status.busy": "2022-01-29T05:38:52.232729Z",
     "iopub.status.idle": "2022-01-29T05:38:52.245331Z",
     "shell.execute_reply": "2022-01-29T05:38:52.244596Z",
     "shell.execute_reply.started": "2022-01-29T05:34:12.595708Z"
    },
    "papermill": {
     "duration": 0.046334,
     "end_time": "2022-01-29T05:38:52.245491",
     "exception": false,
     "start_time": "2022-01-29T05:38:52.199157",
     "status": "completed"
    },
    "tags": []
   },
   "outputs": [
    {
     "name": "stdout",
     "output_type": "stream",
     "text": [
      "obtain predictions from the model\n"
     ]
    }
   ],
   "source": [
    "# obtain predictions from the model\n",
    "print('obtain predictions from the model')\n",
    "preds = lr_model.predict(X_test)\n",
    "preds = [round(x, 2) for x in preds]"
   ]
  },
  {
   "cell_type": "code",
   "execution_count": 18,
   "id": "01282464",
   "metadata": {
    "execution": {
     "iopub.execute_input": "2022-01-29T05:38:52.322984Z",
     "iopub.status.busy": "2022-01-29T05:38:52.319244Z",
     "iopub.status.idle": "2022-01-29T05:38:52.330656Z",
     "shell.execute_reply": "2022-01-29T05:38:52.332089Z",
     "shell.execute_reply.started": "2022-01-29T05:34:12.607756Z"
    },
    "papermill": {
     "duration": 0.055094,
     "end_time": "2022-01-29T05:38:52.332305",
     "exception": false,
     "start_time": "2022-01-29T05:38:52.277211",
     "status": "completed"
    },
    "tags": []
   },
   "outputs": [
    {
     "name": "stdout",
     "output_type": "stream",
     "text": [
      "compare actual and predicted values\n"
     ]
    }
   ],
   "source": [
    "# compare actual and predicted values\n",
    "print('compare actual and predicted values')\n",
    "comp = pd.DataFrame()\n",
    "comp['actual'] = y_test\n",
    "comp['predicted'] = preds\n",
    "comp['err'] = abs(comp['actual'] - comp['predicted'])\n",
    "comp['pct_err'] = round(comp['err'] / comp['actual'], 3)\n",
    "mean_err = round(comp['pct_err'].mean(), 3)"
   ]
  },
  {
   "cell_type": "code",
   "execution_count": 19,
   "id": "b46362ba",
   "metadata": {
    "execution": {
     "iopub.execute_input": "2022-01-29T05:38:52.400661Z",
     "iopub.status.busy": "2022-01-29T05:38:52.399726Z",
     "iopub.status.idle": "2022-01-29T05:38:52.405025Z",
     "shell.execute_reply": "2022-01-29T05:38:52.404274Z",
     "shell.execute_reply.started": "2022-01-29T05:34:12.627000Z"
    },
    "papermill": {
     "duration": 0.043435,
     "end_time": "2022-01-29T05:38:52.405179",
     "exception": false,
     "start_time": "2022-01-29T05:38:52.361744",
     "status": "completed"
    },
    "tags": []
   },
   "outputs": [
    {
     "name": "stdout",
     "output_type": "stream",
     "text": [
      "mean error: 0.105, accuracy: 0.895\n"
     ]
    }
   ],
   "source": [
    "accuracy = 1.0 - mean_err\n",
    "print(f'mean error: {mean_err}, accuracy: {accuracy}')"
   ]
  },
  {
   "cell_type": "code",
   "execution_count": null,
   "id": "18be2204",
   "metadata": {
    "papermill": {
     "duration": 0.033205,
     "end_time": "2022-01-29T05:38:52.470664",
     "exception": false,
     "start_time": "2022-01-29T05:38:52.437459",
     "status": "completed"
    },
    "tags": []
   },
   "outputs": [],
   "source": []
  }
 ],
 "metadata": {
  "kernelspec": {
   "display_name": "Python 3",
   "language": "python",
   "name": "python3"
  },
  "language_info": {
   "codemirror_mode": {
    "name": "ipython",
    "version": 3
   },
   "file_extension": ".py",
   "mimetype": "text/x-python",
   "name": "python",
   "nbconvert_exporter": "python",
   "pygments_lexer": "ipython3",
   "version": "3.7.12"
  },
  "papermill": {
   "default_parameters": {},
   "duration": 23.302987,
   "end_time": "2022-01-29T05:38:53.921727",
   "environment_variables": {},
   "exception": null,
   "input_path": "__notebook__.ipynb",
   "output_path": "__notebook__.ipynb",
   "parameters": {},
   "start_time": "2022-01-29T05:38:30.618740",
   "version": "2.3.3"
  }
 },
 "nbformat": 4,
 "nbformat_minor": 5
}
