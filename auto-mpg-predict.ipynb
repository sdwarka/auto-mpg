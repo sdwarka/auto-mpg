{
 "cells": [
  {
   "cell_type": "code",
   "execution_count": 1,
   "id": "53a7cf1b",
   "metadata": {
    "execution": {
     "iopub.execute_input": "2021-12-31T04:36:53.569173Z",
     "iopub.status.busy": "2021-12-31T04:36:53.568044Z",
     "iopub.status.idle": "2021-12-31T04:36:54.844197Z",
     "shell.execute_reply": "2021-12-31T04:36:54.843497Z",
     "shell.execute_reply.started": "2021-12-31T04:32:58.628305Z"
    },
    "papermill": {
     "duration": 1.307013,
     "end_time": "2021-12-31T04:36:54.844367",
     "exception": false,
     "start_time": "2021-12-31T04:36:53.537354",
     "status": "completed"
    },
    "tags": []
   },
   "outputs": [],
   "source": [
    "import pandas as pd\n",
    "import seaborn as sns\n",
    "\n",
    "from sklearn.linear_model import LinearRegression\n",
    "from sklearn.model_selection import train_test_split"
   ]
  },
  {
   "cell_type": "code",
   "execution_count": 2,
   "id": "ff05de44",
   "metadata": {
    "execution": {
     "iopub.execute_input": "2021-12-31T04:36:54.886680Z",
     "iopub.status.busy": "2021-12-31T04:36:54.886018Z",
     "iopub.status.idle": "2021-12-31T04:36:54.906233Z",
     "shell.execute_reply": "2021-12-31T04:36:54.905552Z",
     "shell.execute_reply.started": "2021-12-31T04:32:59.824231Z"
    },
    "papermill": {
     "duration": 0.04384,
     "end_time": "2021-12-31T04:36:54.906387",
     "exception": false,
     "start_time": "2021-12-31T04:36:54.862547",
     "status": "completed"
    },
    "scrolled": true,
    "tags": []
   },
   "outputs": [
    {
     "name": "stdout",
     "output_type": "stream",
     "text": [
      "reading the dataset\n"
     ]
    }
   ],
   "source": [
    "# read the dataset\n",
    "print('reading the dataset')\n",
    "cols = ['mpg', 'cylinders', 'displacement', 'horsepower', 'weight', \n",
    "        'acceleration', 'model year', 'origin', 'car name']\n",
    "df = pd.read_csv('../input/uci-ml-auto-mpg-dataset/auto-mpg.data', sep='\\s+', header=None, names=cols)"
   ]
  },
  {
   "cell_type": "code",
   "execution_count": 3,
   "id": "c03e0623",
   "metadata": {
    "execution": {
     "iopub.execute_input": "2021-12-31T04:36:54.962146Z",
     "iopub.status.busy": "2021-12-31T04:36:54.961461Z",
     "iopub.status.idle": "2021-12-31T04:36:54.964969Z",
     "shell.execute_reply": "2021-12-31T04:36:54.965425Z",
     "shell.execute_reply.started": "2021-12-31T04:32:59.846242Z"
    },
    "papermill": {
     "duration": 0.04112,
     "end_time": "2021-12-31T04:36:54.965596",
     "exception": false,
     "start_time": "2021-12-31T04:36:54.924476",
     "status": "completed"
    },
    "tags": []
   },
   "outputs": [
    {
     "name": "stdout",
     "output_type": "stream",
     "text": [
      "preprocessing\n"
     ]
    }
   ],
   "source": [
    "# convert horsepower column to float and drop rows where horsepower = nan\n",
    "print('preprocessing')\n",
    "df['horsepower'] = pd.to_numeric(df['horsepower'], errors='coerce')\n",
    "df.dropna(axis=0, how='any', inplace=True)"
   ]
  },
  {
   "cell_type": "code",
   "execution_count": 4,
   "id": "0b62d291",
   "metadata": {
    "execution": {
     "iopub.execute_input": "2021-12-31T04:36:55.023533Z",
     "iopub.status.busy": "2021-12-31T04:36:55.022830Z",
     "iopub.status.idle": "2021-12-31T04:36:55.042599Z",
     "shell.execute_reply": "2021-12-31T04:36:55.043064Z",
     "shell.execute_reply.started": "2021-12-31T04:32:59.867127Z"
    },
    "papermill": {
     "duration": 0.059194,
     "end_time": "2021-12-31T04:36:55.043238",
     "exception": false,
     "start_time": "2021-12-31T04:36:54.984044",
     "status": "completed"
    },
    "tags": []
   },
   "outputs": [
    {
     "data": {
      "text/html": [
       "<div>\n",
       "<style scoped>\n",
       "    .dataframe tbody tr th:only-of-type {\n",
       "        vertical-align: middle;\n",
       "    }\n",
       "\n",
       "    .dataframe tbody tr th {\n",
       "        vertical-align: top;\n",
       "    }\n",
       "\n",
       "    .dataframe thead th {\n",
       "        text-align: right;\n",
       "    }\n",
       "</style>\n",
       "<table border=\"1\" class=\"dataframe\">\n",
       "  <thead>\n",
       "    <tr style=\"text-align: right;\">\n",
       "      <th></th>\n",
       "      <th>mpg</th>\n",
       "      <th>cylinders</th>\n",
       "      <th>displacement</th>\n",
       "      <th>horsepower</th>\n",
       "      <th>weight</th>\n",
       "      <th>acceleration</th>\n",
       "      <th>model year</th>\n",
       "      <th>origin</th>\n",
       "      <th>car name</th>\n",
       "      <th>mpg_bin</th>\n",
       "    </tr>\n",
       "  </thead>\n",
       "  <tbody>\n",
       "    <tr>\n",
       "      <th>0</th>\n",
       "      <td>18.0</td>\n",
       "      <td>8</td>\n",
       "      <td>307.0</td>\n",
       "      <td>130.0</td>\n",
       "      <td>3504.0</td>\n",
       "      <td>12.0</td>\n",
       "      <td>70</td>\n",
       "      <td>1</td>\n",
       "      <td>chevrolet chevelle malibu</td>\n",
       "      <td>(16.0, 20.0]</td>\n",
       "    </tr>\n",
       "    <tr>\n",
       "      <th>1</th>\n",
       "      <td>15.0</td>\n",
       "      <td>8</td>\n",
       "      <td>350.0</td>\n",
       "      <td>165.0</td>\n",
       "      <td>3693.0</td>\n",
       "      <td>11.5</td>\n",
       "      <td>70</td>\n",
       "      <td>1</td>\n",
       "      <td>buick skylark 320</td>\n",
       "      <td>(8.999, 16.0]</td>\n",
       "    </tr>\n",
       "    <tr>\n",
       "      <th>2</th>\n",
       "      <td>18.0</td>\n",
       "      <td>8</td>\n",
       "      <td>318.0</td>\n",
       "      <td>150.0</td>\n",
       "      <td>3436.0</td>\n",
       "      <td>11.0</td>\n",
       "      <td>70</td>\n",
       "      <td>1</td>\n",
       "      <td>plymouth satellite</td>\n",
       "      <td>(16.0, 20.0]</td>\n",
       "    </tr>\n",
       "    <tr>\n",
       "      <th>3</th>\n",
       "      <td>16.0</td>\n",
       "      <td>8</td>\n",
       "      <td>304.0</td>\n",
       "      <td>150.0</td>\n",
       "      <td>3433.0</td>\n",
       "      <td>12.0</td>\n",
       "      <td>70</td>\n",
       "      <td>1</td>\n",
       "      <td>amc rebel sst</td>\n",
       "      <td>(8.999, 16.0]</td>\n",
       "    </tr>\n",
       "    <tr>\n",
       "      <th>4</th>\n",
       "      <td>17.0</td>\n",
       "      <td>8</td>\n",
       "      <td>302.0</td>\n",
       "      <td>140.0</td>\n",
       "      <td>3449.0</td>\n",
       "      <td>10.5</td>\n",
       "      <td>70</td>\n",
       "      <td>1</td>\n",
       "      <td>ford torino</td>\n",
       "      <td>(16.0, 20.0]</td>\n",
       "    </tr>\n",
       "  </tbody>\n",
       "</table>\n",
       "</div>"
      ],
      "text/plain": [
       "    mpg  cylinders  displacement  horsepower  weight  acceleration  \\\n",
       "0  18.0          8         307.0       130.0  3504.0          12.0   \n",
       "1  15.0          8         350.0       165.0  3693.0          11.5   \n",
       "2  18.0          8         318.0       150.0  3436.0          11.0   \n",
       "3  16.0          8         304.0       150.0  3433.0          12.0   \n",
       "4  17.0          8         302.0       140.0  3449.0          10.5   \n",
       "\n",
       "   model year  origin                   car name        mpg_bin  \n",
       "0          70       1  chevrolet chevelle malibu   (16.0, 20.0]  \n",
       "1          70       1          buick skylark 320  (8.999, 16.0]  \n",
       "2          70       1         plymouth satellite   (16.0, 20.0]  \n",
       "3          70       1              amc rebel sst  (8.999, 16.0]  \n",
       "4          70       1                ford torino   (16.0, 20.0]  "
      ]
     },
     "execution_count": 4,
     "metadata": {},
     "output_type": "execute_result"
    }
   ],
   "source": [
    "df['mpg_bin'] = pd.qcut(df['mpg'], q=5)\n",
    "df.head()"
   ]
  },
  {
   "cell_type": "code",
   "execution_count": 5,
   "id": "5d57ab18",
   "metadata": {
    "execution": {
     "iopub.execute_input": "2021-12-31T04:36:55.092007Z",
     "iopub.status.busy": "2021-12-31T04:36:55.091315Z",
     "iopub.status.idle": "2021-12-31T04:36:55.497185Z",
     "shell.execute_reply": "2021-12-31T04:36:55.496677Z",
     "shell.execute_reply.started": "2021-12-31T04:32:59.905255Z"
    },
    "papermill": {
     "duration": 0.434029,
     "end_time": "2021-12-31T04:36:55.497325",
     "exception": false,
     "start_time": "2021-12-31T04:36:55.063296",
     "status": "completed"
    },
    "tags": []
   },
   "outputs": [
    {
     "data": {
      "text/plain": [
       "<AxesSubplot:xlabel='cylinders', ylabel='mpg_bin'>"
      ]
     },
     "execution_count": 5,
     "metadata": {},
     "output_type": "execute_result"
    },
    {
     "data": {
      "image/png": "[encoded data removed]",
      "text/plain": [
       "<Figure size 432x288 with 1 Axes>"
      ]
     },
     "metadata": {
      "needs_background": "light"
     },
     "output_type": "display_data"
    }
   ],
   "source": [
    "sns.barplot(y=df['mpg_bin'], x=df['cylinders'])"
   ]
  },
  {
   "cell_type": "code",
   "execution_count": 6,
   "id": "b7148505",
   "metadata": {
    "execution": {
     "iopub.execute_input": "2021-12-31T04:36:55.542374Z",
     "iopub.status.busy": "2021-12-31T04:36:55.541402Z",
     "iopub.status.idle": "2021-12-31T04:36:55.545988Z",
     "shell.execute_reply": "2021-12-31T04:36:55.545231Z",
     "shell.execute_reply.started": "2021-12-31T04:33:00.261462Z"
    },
    "papermill": {
     "duration": 0.029127,
     "end_time": "2021-12-31T04:36:55.546179",
     "exception": false,
     "start_time": "2021-12-31T04:36:55.517052",
     "status": "completed"
    },
    "tags": []
   },
   "outputs": [
    {
     "name": "stdout",
     "output_type": "stream",
     "text": [
      "sns.barplot(x=df['mpg_bin'], y=df['mpg'])\n",
      "sns.barplot(x=df['mpg_bin'], y=df['cylinders'])\n",
      "sns.barplot(x=df['mpg_bin'], y=df['displacement'])\n",
      "sns.barplot(x=df['mpg_bin'], y=df['horsepower'])\n",
      "sns.barplot(x=df['mpg_bin'], y=df['weight'])\n",
      "sns.barplot(x=df['mpg_bin'], y=df['acceleration'])\n",
      "sns.barplot(x=df['mpg_bin'], y=df['model year'])\n",
      "sns.barplot(x=df['mpg_bin'], y=df['origin'])\n",
      "sns.barplot(x=df['mpg_bin'], y=df['car name'])\n",
      "sns.barplot(x=df['mpg_bin'], y=df['mpg_bin'])\n"
     ]
    }
   ],
   "source": [
    "for col in df.columns:\n",
    "    print(f\"sns.barplot(x=df['mpg_bin'], y=df['{col}'])\")"
   ]
  },
  {
   "cell_type": "code",
   "execution_count": 7,
   "id": "f13d077f",
   "metadata": {
    "execution": {
     "iopub.execute_input": "2021-12-31T04:36:55.590404Z",
     "iopub.status.busy": "2021-12-31T04:36:55.589764Z",
     "iopub.status.idle": "2021-12-31T04:36:55.952689Z",
     "shell.execute_reply": "2021-12-31T04:36:55.953164Z",
     "shell.execute_reply.started": "2021-12-31T04:33:00.268756Z"
    },
    "papermill": {
     "duration": 0.386161,
     "end_time": "2021-12-31T04:36:55.953342",
     "exception": false,
     "start_time": "2021-12-31T04:36:55.567181",
     "status": "completed"
    },
    "tags": []
   },
   "outputs": [
    {
     "data": {
      "text/plain": [
       "<AxesSubplot:xlabel='mpg_bin', ylabel='displacement'>"
      ]
     },
     "execution_count": 7,
     "metadata": {},
     "output_type": "execute_result"
    },
    {
     "data": {
      "image/png": "[encoded data removed]",
      "text/plain": [
       "<Figure size 432x288 with 1 Axes>"
      ]
     },
     "metadata": {
      "needs_background": "light"
     },
     "output_type": "display_data"
    }
   ],
   "source": [
    "sns.barplot(x=df['mpg_bin'], y=df['displacement'])"
   ]
  },
  {
   "cell_type": "code",
   "execution_count": 8,
   "id": "51ed6eb0",
   "metadata": {
    "execution": {
     "iopub.execute_input": "2021-12-31T04:36:56.006561Z",
     "iopub.status.busy": "2021-12-31T04:36:56.005837Z",
     "iopub.status.idle": "2021-12-31T04:36:56.370630Z",
     "shell.execute_reply": "2021-12-31T04:36:56.371228Z",
     "shell.execute_reply.started": "2021-12-31T04:33:00.582850Z"
    },
    "papermill": {
     "duration": 0.396782,
     "end_time": "2021-12-31T04:36:56.371401",
     "exception": false,
     "start_time": "2021-12-31T04:36:55.974619",
     "status": "completed"
    },
    "tags": []
   },
   "outputs": [
    {
     "data": {
      "text/plain": [
       "<AxesSubplot:xlabel='mpg_bin', ylabel='horsepower'>"
      ]
     },
     "execution_count": 8,
     "metadata": {},
     "output_type": "execute_result"
    },
    {
     "data": {
      "image/png": "[encoded data removed]",
      "text/plain": [
       "<Figure size 432x288 with 1 Axes>"
      ]
     },
     "metadata": {
      "needs_background": "light"
     },
     "output_type": "display_data"
    }
   ],
   "source": [
    "sns.barplot(x=df['mpg_bin'], y=df['horsepower'])"
   ]
  },
  {
   "cell_type": "code",
   "execution_count": 9,
   "id": "dbd824bd",
   "metadata": {
    "execution": {
     "iopub.execute_input": "2021-12-31T04:36:56.418627Z",
     "iopub.status.busy": "2021-12-31T04:36:56.417992Z",
     "iopub.status.idle": "2021-12-31T04:36:56.785513Z",
     "shell.execute_reply": "2021-12-31T04:36:56.786025Z",
     "shell.execute_reply.started": "2021-12-31T04:33:00.891153Z"
    },
    "papermill": {
     "duration": 0.392572,
     "end_time": "2021-12-31T04:36:56.786199",
     "exception": false,
     "start_time": "2021-12-31T04:36:56.393627",
     "status": "completed"
    },
    "tags": []
   },
   "outputs": [
    {
     "data": {
      "text/plain": [
       "<AxesSubplot:xlabel='mpg_bin', ylabel='weight'>"
      ]
     },
     "execution_count": 9,
     "metadata": {},
     "output_type": "execute_result"
    },
    {
     "data": {
      "image/png": "[encoded data removed]",
      "text/plain": [
       "<Figure size 432x288 with 1 Axes>"
      ]
     },
     "metadata": {
      "needs_background": "light"
     },
     "output_type": "display_data"
    }
   ],
   "source": [
    "sns.barplot(x=df['mpg_bin'], y=df['weight'])"
   ]
  },
  {
   "cell_type": "code",
   "execution_count": 10,
   "id": "3fee9d32",
   "metadata": {
    "execution": {
     "iopub.execute_input": "2021-12-31T04:36:56.837023Z",
     "iopub.status.busy": "2021-12-31T04:36:56.836090Z",
     "iopub.status.idle": "2021-12-31T04:36:57.201844Z",
     "shell.execute_reply": "2021-12-31T04:36:57.202321Z",
     "shell.execute_reply.started": "2021-12-31T04:33:01.203556Z"
    },
    "papermill": {
     "duration": 0.39301,
     "end_time": "2021-12-31T04:36:57.202503",
     "exception": false,
     "start_time": "2021-12-31T04:36:56.809493",
     "status": "completed"
    },
    "tags": []
   },
   "outputs": [
    {
     "data": {
      "text/plain": [
       "<AxesSubplot:xlabel='mpg_bin', ylabel='acceleration'>"
      ]
     },
     "execution_count": 10,
     "metadata": {},
     "output_type": "execute_result"
    },
    {
     "data": {
      "image/png": "[encoded data removed]",
      "text/plain": [
       "<Figure size 432x288 with 1 Axes>"
      ]
     },
     "metadata": {
      "needs_background": "light"
     },
     "output_type": "display_data"
    }
   ],
   "source": [
    "sns.barplot(x=df['mpg_bin'], y=df['acceleration'])"
   ]
  },
  {
   "cell_type": "code",
   "execution_count": 11,
   "id": "808a4d01",
   "metadata": {
    "execution": {
     "iopub.execute_input": "2021-12-31T04:36:57.257420Z",
     "iopub.status.busy": "2021-12-31T04:36:57.256437Z",
     "iopub.status.idle": "2021-12-31T04:36:57.526767Z",
     "shell.execute_reply": "2021-12-31T04:36:57.527235Z",
     "shell.execute_reply.started": "2021-12-31T04:33:01.514745Z"
    },
    "papermill": {
     "duration": 0.300632,
     "end_time": "2021-12-31T04:36:57.527407",
     "exception": false,
     "start_time": "2021-12-31T04:36:57.226775",
     "status": "completed"
    },
    "tags": []
   },
   "outputs": [
    {
     "data": {
      "text/plain": [
       "<AxesSubplot:xlabel='origin', ylabel='mpg'>"
      ]
     },
     "execution_count": 11,
     "metadata": {},
     "output_type": "execute_result"
    },
    {
     "data": {
      "image/png": "[encoded data removed]",
      "text/plain": [
       "<Figure size 432x288 with 1 Axes>"
      ]
     },
     "metadata": {
      "needs_background": "light"
     },
     "output_type": "display_data"
    }
   ],
   "source": [
    "sns.barplot(x=df['origin'], y=df['mpg'])"
   ]
  },
  {
   "cell_type": "code",
   "execution_count": 12,
   "id": "b07eb0f7",
   "metadata": {
    "execution": {
     "iopub.execute_input": "2021-12-31T04:36:57.582042Z",
     "iopub.status.busy": "2021-12-31T04:36:57.581036Z",
     "iopub.status.idle": "2021-12-31T04:36:57.589512Z",
     "shell.execute_reply": "2021-12-31T04:36:57.588998Z",
     "shell.execute_reply.started": "2021-12-31T04:33:01.752573Z"
    },
    "papermill": {
     "duration": 0.037131,
     "end_time": "2021-12-31T04:36:57.589665",
     "exception": false,
     "start_time": "2021-12-31T04:36:57.552534",
     "status": "completed"
    },
    "tags": []
   },
   "outputs": [
    {
     "data": {
      "text/plain": [
       "(245, 9.0, 39.0)"
      ]
     },
     "execution_count": 12,
     "metadata": {},
     "output_type": "execute_result"
    }
   ],
   "source": [
    "usa = df[df['origin']==1]['mpg']\n",
    "usa.count(), usa.min(), usa.max()"
   ]
  },
  {
   "cell_type": "code",
   "execution_count": 13,
   "id": "eb362dc5",
   "metadata": {
    "execution": {
     "iopub.execute_input": "2021-12-31T04:36:57.644719Z",
     "iopub.status.busy": "2021-12-31T04:36:57.644104Z",
     "iopub.status.idle": "2021-12-31T04:36:57.650700Z",
     "shell.execute_reply": "2021-12-31T04:36:57.651224Z",
     "shell.execute_reply.started": "2021-12-31T04:33:01.761904Z"
    },
    "papermill": {
     "duration": 0.035641,
     "end_time": "2021-12-31T04:36:57.651394",
     "exception": false,
     "start_time": "2021-12-31T04:36:57.615753",
     "status": "completed"
    },
    "tags": []
   },
   "outputs": [
    {
     "data": {
      "text/plain": [
       "(68, 16.2, 44.3)"
      ]
     },
     "execution_count": 13,
     "metadata": {},
     "output_type": "execute_result"
    }
   ],
   "source": [
    "eu = df[df['origin']==2]['mpg']\n",
    "eu.count(), eu.min(), eu.max()"
   ]
  },
  {
   "cell_type": "code",
   "execution_count": 14,
   "id": "7847dbe1",
   "metadata": {
    "execution": {
     "iopub.execute_input": "2021-12-31T04:36:57.706841Z",
     "iopub.status.busy": "2021-12-31T04:36:57.706149Z",
     "iopub.status.idle": "2021-12-31T04:36:57.713084Z",
     "shell.execute_reply": "2021-12-31T04:36:57.713662Z",
     "shell.execute_reply.started": "2021-12-31T04:33:01.775727Z"
    },
    "papermill": {
     "duration": 0.036397,
     "end_time": "2021-12-31T04:36:57.713825",
     "exception": false,
     "start_time": "2021-12-31T04:36:57.677428",
     "status": "completed"
    },
    "tags": []
   },
   "outputs": [
    {
     "data": {
      "text/plain": [
       "(79, 18.0, 46.6)"
      ]
     },
     "execution_count": 14,
     "metadata": {},
     "output_type": "execute_result"
    }
   ],
   "source": [
    "jp = df[df['origin']==3]['mpg']\n",
    "jp.count(), jp.min(), jp.max()"
   ]
  },
  {
   "cell_type": "code",
   "execution_count": 15,
   "id": "d58c05e2",
   "metadata": {
    "execution": {
     "iopub.execute_input": "2021-12-31T04:36:57.773383Z",
     "iopub.status.busy": "2021-12-31T04:36:57.772614Z",
     "iopub.status.idle": "2021-12-31T04:36:57.775619Z",
     "shell.execute_reply": "2021-12-31T04:36:57.776176Z",
     "shell.execute_reply.started": "2021-12-31T04:35:39.421275Z"
    },
    "papermill": {
     "duration": 0.036302,
     "end_time": "2021-12-31T04:36:57.776365",
     "exception": false,
     "start_time": "2021-12-31T04:36:57.740063",
     "status": "completed"
    },
    "tags": []
   },
   "outputs": [
    {
     "name": "stdout",
     "output_type": "stream",
     "text": [
      "segregate features and target columns\n"
     ]
    }
   ],
   "source": [
    "# segregate features and target columns\n",
    "print('segregate features and target columns')\n",
    "X = df.drop(['mpg', 'car name', 'mpg_bin'], axis=1)\n",
    "y = df['mpg']"
   ]
  },
  {
   "cell_type": "code",
   "execution_count": 16,
   "id": "a9f03f67",
   "metadata": {
    "execution": {
     "iopub.execute_input": "2021-12-31T04:36:57.834089Z",
     "iopub.status.busy": "2021-12-31T04:36:57.833415Z",
     "iopub.status.idle": "2021-12-31T04:36:57.842928Z",
     "shell.execute_reply": "2021-12-31T04:36:57.843403Z",
     "shell.execute_reply.started": "2021-12-31T04:35:42.824756Z"
    },
    "papermill": {
     "duration": 0.039432,
     "end_time": "2021-12-31T04:36:57.843576",
     "exception": false,
     "start_time": "2021-12-31T04:36:57.804144",
     "status": "completed"
    },
    "tags": []
   },
   "outputs": [
    {
     "name": "stdout",
     "output_type": "stream",
     "text": [
      "split data into training and test datasets\n"
     ]
    },
    {
     "data": {
      "text/plain": [
       "((313, 7), (79, 7), (313,), (79,))"
      ]
     },
     "execution_count": 16,
     "metadata": {},
     "output_type": "execute_result"
    }
   ],
   "source": [
    "# split data into training and test datasets\n",
    "print('split data into training and test datasets')\n",
    "X_train, X_test, y_train, y_test = train_test_split(X, y, test_size=0.2, random_state=45)\n",
    "X_train.shape, X_test.shape, y_train.shape, y_test.shape"
   ]
  },
  {
   "cell_type": "code",
   "execution_count": 17,
   "id": "20770d7b",
   "metadata": {
    "execution": {
     "iopub.execute_input": "2021-12-31T04:36:57.910618Z",
     "iopub.status.busy": "2021-12-31T04:36:57.904947Z",
     "iopub.status.idle": "2021-12-31T04:36:57.919753Z",
     "shell.execute_reply": "2021-12-31T04:36:57.920739Z",
     "shell.execute_reply.started": "2021-12-31T04:35:50.113565Z"
    },
    "papermill": {
     "duration": 0.050263,
     "end_time": "2021-12-31T04:36:57.920941",
     "exception": false,
     "start_time": "2021-12-31T04:36:57.870678",
     "status": "completed"
    },
    "tags": []
   },
   "outputs": [
    {
     "name": "stdout",
     "output_type": "stream",
     "text": [
      "create and fit an ML model with the training data\n"
     ]
    }
   ],
   "source": [
    "# create and fit a linear regression model with the training data\n",
    "print('create and fit an ML model with the training data')\n",
    "lr_model = LinearRegression()\n",
    "lr_model = lr_model.fit(X_train, y_train)"
   ]
  },
  {
   "cell_type": "code",
   "execution_count": 18,
   "id": "b0a05173",
   "metadata": {
    "execution": {
     "iopub.execute_input": "2021-12-31T04:36:57.983703Z",
     "iopub.status.busy": "2021-12-31T04:36:57.983050Z",
     "iopub.status.idle": "2021-12-31T04:36:57.987303Z",
     "shell.execute_reply": "2021-12-31T04:36:57.986647Z",
     "shell.execute_reply.started": "2021-12-31T04:35:53.988662Z"
    },
    "papermill": {
     "duration": 0.038961,
     "end_time": "2021-12-31T04:36:57.987457",
     "exception": false,
     "start_time": "2021-12-31T04:36:57.948496",
     "status": "completed"
    },
    "tags": []
   },
   "outputs": [
    {
     "name": "stdout",
     "output_type": "stream",
     "text": [
      "obtain predictions from the model\n"
     ]
    }
   ],
   "source": [
    "# obtain predictions from the model\n",
    "print('obtain predictions from the model')\n",
    "preds = lr_model.predict(X_test)\n",
    "preds = [round(x, 2) for x in preds]"
   ]
  },
  {
   "cell_type": "code",
   "execution_count": 19,
   "id": "c03e2f37",
   "metadata": {
    "execution": {
     "iopub.execute_input": "2021-12-31T04:36:58.048064Z",
     "iopub.status.busy": "2021-12-31T04:36:58.047411Z",
     "iopub.status.idle": "2021-12-31T04:36:58.058313Z",
     "shell.execute_reply": "2021-12-31T04:36:58.057771Z",
     "shell.execute_reply.started": "2021-12-31T04:36:16.605750Z"
    },
    "papermill": {
     "duration": 0.04125,
     "end_time": "2021-12-31T04:36:58.058454",
     "exception": false,
     "start_time": "2021-12-31T04:36:58.017204",
     "status": "completed"
    },
    "tags": []
   },
   "outputs": [
    {
     "name": "stdout",
     "output_type": "stream",
     "text": [
      "compare actual and predicted values\n"
     ]
    }
   ],
   "source": [
    "# compare actual and predicted values\n",
    "print('compare actual and predicted values')\n",
    "comp = pd.DataFrame()\n",
    "comp['actual'] = y_test\n",
    "comp['predicted'] = preds\n",
    "comp['err'] = abs(comp['actual'] - comp['predicted'])\n",
    "comp['pct_err'] = round(comp['err'] / comp['actual'], 3)\n",
    "mean_err = round(comp['pct_err'].mean(), 3)"
   ]
  },
  {
   "cell_type": "code",
   "execution_count": 20,
   "id": "6420539a",
   "metadata": {
    "execution": {
     "iopub.execute_input": "2021-12-31T04:36:58.119208Z",
     "iopub.status.busy": "2021-12-31T04:36:58.118601Z",
     "iopub.status.idle": "2021-12-31T04:36:58.122890Z",
     "shell.execute_reply": "2021-12-31T04:36:58.123404Z",
     "shell.execute_reply.started": "2021-12-31T04:36:18.781035Z"
    },
    "papermill": {
     "duration": 0.036203,
     "end_time": "2021-12-31T04:36:58.123567",
     "exception": false,
     "start_time": "2021-12-31T04:36:58.087364",
     "status": "completed"
    },
    "tags": []
   },
   "outputs": [
    {
     "name": "stdout",
     "output_type": "stream",
     "text": [
      "mean error: 0.105, accuracy: 0.895\n"
     ]
    }
   ],
   "source": [
    "accuracy = 1.0 - mean_err\n",
    "print(f'mean error: {mean_err}, accuracy: {accuracy}')"
   ]
  },
  {
   "cell_type": "code",
   "execution_count": null,
   "id": "6298a8dd",
   "metadata": {
    "papermill": {
     "duration": 0.028014,
     "end_time": "2021-12-31T04:36:58.180506",
     "exception": false,
     "start_time": "2021-12-31T04:36:58.152492",
     "status": "completed"
    },
    "tags": []
   },
   "outputs": [],
   "source": []
  }
 ],
 "metadata": {
  "kernelspec": {
   "display_name": "Python 3",
   "language": "python",
   "name": "python3"
  },
  "language_info": {
   "codemirror_mode": {
    "name": "ipython",
    "version": 3
   },
   "file_extension": ".py",
   "mimetype": "text/x-python",
   "name": "python",
   "nbconvert_exporter": "python",
   "pygments_lexer": "ipython3",
   "version": "3.7.12"
  },
  "papermill": {
   "default_parameters": {},
   "duration": 15.6103,
   "end_time": "2021-12-31T04:36:58.919460",
   "environment_variables": {},
   "exception": null,
   "input_path": "__notebook__.ipynb",
   "output_path": "__notebook__.ipynb",
   "parameters": {},
   "start_time": "2021-12-31T04:36:43.309160",
   "version": "2.3.3"
  }
 },
 "nbformat": 4,
 "nbformat_minor": 5
}
